{
 "cells": [
  {
   "cell_type": "markdown",
   "id": "a5463784-e91e-4a9b-b643-33d5b7da764a",
   "metadata": {},
   "source": [
    " Aggregation & Grouping\n",
    " Grouping and aggregating helps you summarize your data — like answering"
   ]
  },
  {
   "cell_type": "markdown",
   "id": "d1d1ef07-e59f-41da-873f-d5eebfaea035",
   "metadata": {},
   "source": [
    ".groupby() Function\n",
    " df.groupby() is used to group rows of a DataFrame based on the values in one or\n",
    " more columns, which allows you to then perform aggregate functions (like sum(),\n",
    " mean(), count(), etc.) on each group. Consider this DataFrame"
   ]
  },
  {
   "cell_type": "code",
   "execution_count": 1,
   "id": "0450e4ee-05e4-48fa-ae73-fb163dc73f35",
   "metadata": {},
   "outputs": [],
   "source": [
    "import pandas as pd"
   ]
  },
  {
   "cell_type": "code",
   "execution_count": 2,
   "id": "34172f95-5114-461f-9165-e973b3bce3b1",
   "metadata": {},
   "outputs": [],
   "source": [
    "df = pd.DataFrame({\n",
    "    \"Department\": [\"HR\", \"HR\", \"IT\", \"IT\", \"Marketing\", \"Marketing\", \"Sales\", \"Sales\"],\n",
    "    \"Team\": [\"A\", \"A\", \"B\", \"B\", \"C\", \"C\", \"D\", \"D\"],\n",
    "    \"Gender\": [\"M\", \"F\", \"M\", \"F\", \"M\", \"F\", \"M\", \"F\"],\n",
    "    \"Salary\": [85, 90, 78, 85, 92, 88, 75, 80],\n",
    "    \"Age\": [23, 25, 30, 22, 28, 26, 21, 27],\n",
    "    \"JoinDate\": pd.to_datetime([\n",
    "        \"2020-01-10\", \"2020-02-15\", \"2021-03-20\", \"2021-04-10\",\n",
    "        \"2020-05-30\", \"2020-06-25\", \"2021-07-15\", \"2021-08-01\"\n",
    "    ])\n",
    "})  \n"
   ]
  },
  {
   "cell_type": "code",
   "execution_count": 3,
   "id": "51b488b4-d937-4a87-b6a5-97c0bcb0b9ab",
   "metadata": {},
   "outputs": [
    {
     "data": {
      "text/html": [
       "<div>\n",
       "<style scoped>\n",
       "    .dataframe tbody tr th:only-of-type {\n",
       "        vertical-align: middle;\n",
       "    }\n",
       "\n",
       "    .dataframe tbody tr th {\n",
       "        vertical-align: top;\n",
       "    }\n",
       "\n",
       "    .dataframe thead th {\n",
       "        text-align: right;\n",
       "    }\n",
       "</style>\n",
       "<table border=\"1\" class=\"dataframe\">\n",
       "  <thead>\n",
       "    <tr style=\"text-align: right;\">\n",
       "      <th></th>\n",
       "      <th>Department</th>\n",
       "      <th>Team</th>\n",
       "      <th>Gender</th>\n",
       "      <th>Salary</th>\n",
       "      <th>Age</th>\n",
       "      <th>JoinDate</th>\n",
       "    </tr>\n",
       "  </thead>\n",
       "  <tbody>\n",
       "    <tr>\n",
       "      <th>0</th>\n",
       "      <td>HR</td>\n",
       "      <td>A</td>\n",
       "      <td>M</td>\n",
       "      <td>85</td>\n",
       "      <td>23</td>\n",
       "      <td>2020-01-10</td>\n",
       "    </tr>\n",
       "    <tr>\n",
       "      <th>1</th>\n",
       "      <td>HR</td>\n",
       "      <td>A</td>\n",
       "      <td>F</td>\n",
       "      <td>90</td>\n",
       "      <td>25</td>\n",
       "      <td>2020-02-15</td>\n",
       "    </tr>\n",
       "    <tr>\n",
       "      <th>2</th>\n",
       "      <td>IT</td>\n",
       "      <td>B</td>\n",
       "      <td>M</td>\n",
       "      <td>78</td>\n",
       "      <td>30</td>\n",
       "      <td>2021-03-20</td>\n",
       "    </tr>\n",
       "    <tr>\n",
       "      <th>3</th>\n",
       "      <td>IT</td>\n",
       "      <td>B</td>\n",
       "      <td>F</td>\n",
       "      <td>85</td>\n",
       "      <td>22</td>\n",
       "      <td>2021-04-10</td>\n",
       "    </tr>\n",
       "    <tr>\n",
       "      <th>4</th>\n",
       "      <td>Marketing</td>\n",
       "      <td>C</td>\n",
       "      <td>M</td>\n",
       "      <td>92</td>\n",
       "      <td>28</td>\n",
       "      <td>2020-05-30</td>\n",
       "    </tr>\n",
       "    <tr>\n",
       "      <th>5</th>\n",
       "      <td>Marketing</td>\n",
       "      <td>C</td>\n",
       "      <td>F</td>\n",
       "      <td>88</td>\n",
       "      <td>26</td>\n",
       "      <td>2020-06-25</td>\n",
       "    </tr>\n",
       "    <tr>\n",
       "      <th>6</th>\n",
       "      <td>Sales</td>\n",
       "      <td>D</td>\n",
       "      <td>M</td>\n",
       "      <td>75</td>\n",
       "      <td>21</td>\n",
       "      <td>2021-07-15</td>\n",
       "    </tr>\n",
       "    <tr>\n",
       "      <th>7</th>\n",
       "      <td>Sales</td>\n",
       "      <td>D</td>\n",
       "      <td>F</td>\n",
       "      <td>80</td>\n",
       "      <td>27</td>\n",
       "      <td>2021-08-01</td>\n",
       "    </tr>\n",
       "  </tbody>\n",
       "</table>\n",
       "</div>"
      ],
      "text/plain": [
       "  Department Team Gender  Salary  Age   JoinDate\n",
       "0         HR    A      M      85   23 2020-01-10\n",
       "1         HR    A      F      90   25 2020-02-15\n",
       "2         IT    B      M      78   30 2021-03-20\n",
       "3         IT    B      F      85   22 2021-04-10\n",
       "4  Marketing    C      M      92   28 2020-05-30\n",
       "5  Marketing    C      F      88   26 2020-06-25\n",
       "6      Sales    D      M      75   21 2021-07-15\n",
       "7      Sales    D      F      80   27 2021-08-01"
      ]
     },
     "execution_count": 3,
     "metadata": {},
     "output_type": "execute_result"
    }
   ],
   "source": [
    "df"
   ]
  },
  {
   "cell_type": "code",
   "execution_count": 4,
   "id": "a511867c-3941-48d8-8efe-0a93fdc326ea",
   "metadata": {},
   "outputs": [
    {
     "data": {
      "text/plain": [
       "Department\n",
       "HR           87.5\n",
       "IT           81.5\n",
       "Marketing    90.0\n",
       "Sales        77.5\n",
       "Name: Salary, dtype: float64"
      ]
     },
     "execution_count": 4,
     "metadata": {},
     "output_type": "execute_result"
    }
   ],
   "source": [
    "df.groupby(\"Department\")[\"Salary\"].mean()        #Group by Department, then calculate average Salary for each group."
   ]
  },
  {
   "cell_type": "code",
   "execution_count": 5,
   "id": "f637c7dd-e0d5-4603-919a-b47935135d50",
   "metadata": {},
   "outputs": [
    {
     "data": {
      "text/plain": [
       "pandas.core.series.Series"
      ]
     },
     "execution_count": 5,
     "metadata": {},
     "output_type": "execute_result"
    }
   ],
   "source": [
    "type(df.groupby(\"Department\")[\"Salary\"].mean())"
   ]
  },
  {
   "cell_type": "code",
   "execution_count": 6,
   "id": "10cd755c-4787-4e95-8821-0db72d25352a",
   "metadata": {},
   "outputs": [
    {
     "data": {
      "text/plain": [
       "Team\n",
       "A    175\n",
       "B    163\n",
       "C    180\n",
       "D    155\n",
       "Name: Salary, dtype: int64"
      ]
     },
     "execution_count": 6,
     "metadata": {},
     "output_type": "execute_result"
    }
   ],
   "source": [
    "df.groupby(\"Team\")[\"Salary\"].sum()       ## Total score"
   ]
  },
  {
   "cell_type": "code",
   "execution_count": 7,
   "id": "889f71bd-cd2e-4d5a-9bed-20f645acab81",
   "metadata": {},
   "outputs": [
    {
     "data": {
      "text/plain": [
       "Team\n",
       "A    87.5\n",
       "B    81.5\n",
       "C    90.0\n",
       "D    77.5\n",
       "Name: Salary, dtype: float64"
      ]
     },
     "execution_count": 7,
     "metadata": {},
     "output_type": "execute_result"
    }
   ],
   "source": [
    "df.groupby(\"Team\")[\"Salary\"].mean()              # Average per team"
   ]
  },
  {
   "cell_type": "code",
   "execution_count": 8,
   "id": "2c992252-ce96-4ecd-83e2-4cc06c1587be",
   "metadata": {},
   "outputs": [
    {
     "data": {
      "text/plain": [
       "Team\n",
       "A    2\n",
       "B    2\n",
       "C    2\n",
       "D    2\n",
       "Name: Salary, dtype: int64"
      ]
     },
     "execution_count": 8,
     "metadata": {},
     "output_type": "execute_result"
    }
   ],
   "source": [
    " df.groupby(\"Team\")[\"Salary\"].count()           # How many entries"
   ]
  },
  {
   "cell_type": "code",
   "execution_count": 9,
   "id": "b19b9823-992e-4053-9d2a-d2abc84f0bd7",
   "metadata": {},
   "outputs": [
    {
     "data": {
      "text/plain": [
       "Team\n",
       "A    85\n",
       "B    78\n",
       "C    88\n",
       "D    75\n",
       "Name: Salary, dtype: int64"
      ]
     },
     "execution_count": 9,
     "metadata": {},
     "output_type": "execute_result"
    }
   ],
   "source": [
    "df.groupby(\"Team\")[\"Salary\"].min()"
   ]
  },
  {
   "cell_type": "code",
   "execution_count": 10,
   "id": "51c85e38-d531-44a5-874d-25705f87ccdc",
   "metadata": {},
   "outputs": [
    {
     "data": {
      "text/plain": [
       "Team\n",
       "A    90\n",
       "B    85\n",
       "C    92\n",
       "D    80\n",
       "Name: Salary, dtype: int64"
      ]
     },
     "execution_count": 10,
     "metadata": {},
     "output_type": "execute_result"
    }
   ],
   "source": [
    "df.groupby(\"Team\")[\"Salary\"].max()"
   ]
  },
  {
   "cell_type": "code",
   "execution_count": 11,
   "id": "7e11fab4-0a24-42f5-b7cb-da0a372204a0",
   "metadata": {},
   "outputs": [
    {
     "data": {
      "text/plain": [
       "Team  Gender\n",
       "A     F         90.0\n",
       "      M         85.0\n",
       "B     F         85.0\n",
       "      M         78.0\n",
       "C     F         88.0\n",
       "      M         92.0\n",
       "D     F         80.0\n",
       "      M         75.0\n",
       "Name: Salary, dtype: float64"
      ]
     },
     "execution_count": 11,
     "metadata": {},
     "output_type": "execute_result"
    }
   ],
   "source": [
    " #To group by multiple columns:\n",
    "df.groupby([\"Team\", \"Gender\"])[\"Salary\"].mean()"
   ]
  },
  {
   "cell_type": "markdown",
   "id": "0a7993e6-2084-41bb-aa50-5b992b5c980f",
   "metadata": {},
   "source": [
    "Custom Aggregations with .agg()\n",
    "In pandas, .agg and .aggregate are exactly the same — they’re aliases for the same method"
   ]
  },
  {
   "cell_type": "code",
   "execution_count": 12,
   "id": "984fe7f2-9270-4388-8b41-e908230d838a",
   "metadata": {},
   "outputs": [
    {
     "data": {
      "text/html": [
       "<div>\n",
       "<style scoped>\n",
       "    .dataframe tbody tr th:only-of-type {\n",
       "        vertical-align: middle;\n",
       "    }\n",
       "\n",
       "    .dataframe tbody tr th {\n",
       "        vertical-align: top;\n",
       "    }\n",
       "\n",
       "    .dataframe thead th {\n",
       "        text-align: right;\n",
       "    }\n",
       "</style>\n",
       "<table border=\"1\" class=\"dataframe\">\n",
       "  <thead>\n",
       "    <tr style=\"text-align: right;\">\n",
       "      <th></th>\n",
       "      <th>mean</th>\n",
       "      <th>max</th>\n",
       "      <th>min</th>\n",
       "    </tr>\n",
       "    <tr>\n",
       "      <th>Team</th>\n",
       "      <th></th>\n",
       "      <th></th>\n",
       "      <th></th>\n",
       "    </tr>\n",
       "  </thead>\n",
       "  <tbody>\n",
       "    <tr>\n",
       "      <th>A</th>\n",
       "      <td>87.5</td>\n",
       "      <td>90</td>\n",
       "      <td>85</td>\n",
       "    </tr>\n",
       "    <tr>\n",
       "      <th>B</th>\n",
       "      <td>81.5</td>\n",
       "      <td>85</td>\n",
       "      <td>78</td>\n",
       "    </tr>\n",
       "    <tr>\n",
       "      <th>C</th>\n",
       "      <td>90.0</td>\n",
       "      <td>92</td>\n",
       "      <td>88</td>\n",
       "    </tr>\n",
       "    <tr>\n",
       "      <th>D</th>\n",
       "      <td>77.5</td>\n",
       "      <td>80</td>\n",
       "      <td>75</td>\n",
       "    </tr>\n",
       "  </tbody>\n",
       "</table>\n",
       "</div>"
      ],
      "text/plain": [
       "      mean  max  min\n",
       "Team                \n",
       "A     87.5   90   85\n",
       "B     81.5   85   78\n",
       "C     90.0   92   88\n",
       "D     77.5   80   75"
      ]
     },
     "execution_count": 12,
     "metadata": {},
     "output_type": "execute_result"
    }
   ],
   "source": [
    "#Apply multiple functions at once like this:\n",
    "df.groupby(\"Team\")[\"Salary\"].agg([\"mean\", \"max\", \"min\"])"
   ]
  },
  {
   "cell_type": "code",
   "execution_count": 13,
   "id": "59a58f39-fd37-41b7-838a-1fd919c1ce6f",
   "metadata": {},
   "outputs": [
    {
     "data": {
      "text/html": [
       "<div>\n",
       "<style scoped>\n",
       "    .dataframe tbody tr th:only-of-type {\n",
       "        vertical-align: middle;\n",
       "    }\n",
       "\n",
       "    .dataframe tbody tr th {\n",
       "        vertical-align: top;\n",
       "    }\n",
       "\n",
       "    .dataframe thead th {\n",
       "        text-align: right;\n",
       "    }\n",
       "</style>\n",
       "<table border=\"1\" class=\"dataframe\">\n",
       "  <thead>\n",
       "    <tr style=\"text-align: right;\">\n",
       "      <th></th>\n",
       "      <th>avg_score</th>\n",
       "      <th>high_score</th>\n",
       "    </tr>\n",
       "    <tr>\n",
       "      <th>Team</th>\n",
       "      <th></th>\n",
       "      <th></th>\n",
       "    </tr>\n",
       "  </thead>\n",
       "  <tbody>\n",
       "    <tr>\n",
       "      <th>A</th>\n",
       "      <td>87.5</td>\n",
       "      <td>90</td>\n",
       "    </tr>\n",
       "    <tr>\n",
       "      <th>B</th>\n",
       "      <td>81.5</td>\n",
       "      <td>85</td>\n",
       "    </tr>\n",
       "    <tr>\n",
       "      <th>C</th>\n",
       "      <td>90.0</td>\n",
       "      <td>92</td>\n",
       "    </tr>\n",
       "    <tr>\n",
       "      <th>D</th>\n",
       "      <td>77.5</td>\n",
       "      <td>80</td>\n",
       "    </tr>\n",
       "  </tbody>\n",
       "</table>\n",
       "</div>"
      ],
      "text/plain": [
       "      avg_score  high_score\n",
       "Team                       \n",
       "A          87.5          90\n",
       "B          81.5          85\n",
       "C          90.0          92\n",
       "D          77.5          80"
      ]
     },
     "execution_count": 13,
     "metadata": {},
     "output_type": "execute_result"
    }
   ],
   "source": [
    " df.groupby(\"Team\")[\"Salary\"].agg(             # if u want a column name of your choice\n",
    "    avg_score=\"mean\",\n",
    "    high_score=\"max\"\n",
    " )"
   ]
  },
  {
   "cell_type": "code",
   "execution_count": 14,
   "id": "93f5a910-09ae-4bd7-b2e5-8eeb49c40570",
   "metadata": {},
   "outputs": [],
   "source": [
    " df[\"Team Avg\"] = df.groupby(\"Team\")[\"Salary\"].transform(\"mean\")    #  Now each row gets its team average — great for comparisons!"
   ]
  },
  {
   "cell_type": "code",
   "execution_count": 15,
   "id": "033cf24d-8a2d-4cb4-adfe-ea1b4259df7e",
   "metadata": {},
   "outputs": [
    {
     "data": {
      "text/html": [
       "<div>\n",
       "<style scoped>\n",
       "    .dataframe tbody tr th:only-of-type {\n",
       "        vertical-align: middle;\n",
       "    }\n",
       "\n",
       "    .dataframe tbody tr th {\n",
       "        vertical-align: top;\n",
       "    }\n",
       "\n",
       "    .dataframe thead th {\n",
       "        text-align: right;\n",
       "    }\n",
       "</style>\n",
       "<table border=\"1\" class=\"dataframe\">\n",
       "  <thead>\n",
       "    <tr style=\"text-align: right;\">\n",
       "      <th></th>\n",
       "      <th>Department</th>\n",
       "      <th>Team</th>\n",
       "      <th>Gender</th>\n",
       "      <th>Salary</th>\n",
       "      <th>Age</th>\n",
       "      <th>JoinDate</th>\n",
       "      <th>Team Avg</th>\n",
       "    </tr>\n",
       "  </thead>\n",
       "  <tbody>\n",
       "    <tr>\n",
       "      <th>0</th>\n",
       "      <td>HR</td>\n",
       "      <td>A</td>\n",
       "      <td>M</td>\n",
       "      <td>85</td>\n",
       "      <td>23</td>\n",
       "      <td>2020-01-10</td>\n",
       "      <td>87.5</td>\n",
       "    </tr>\n",
       "    <tr>\n",
       "      <th>1</th>\n",
       "      <td>HR</td>\n",
       "      <td>A</td>\n",
       "      <td>F</td>\n",
       "      <td>90</td>\n",
       "      <td>25</td>\n",
       "      <td>2020-02-15</td>\n",
       "      <td>87.5</td>\n",
       "    </tr>\n",
       "    <tr>\n",
       "      <th>2</th>\n",
       "      <td>IT</td>\n",
       "      <td>B</td>\n",
       "      <td>M</td>\n",
       "      <td>78</td>\n",
       "      <td>30</td>\n",
       "      <td>2021-03-20</td>\n",
       "      <td>81.5</td>\n",
       "    </tr>\n",
       "    <tr>\n",
       "      <th>3</th>\n",
       "      <td>IT</td>\n",
       "      <td>B</td>\n",
       "      <td>F</td>\n",
       "      <td>85</td>\n",
       "      <td>22</td>\n",
       "      <td>2021-04-10</td>\n",
       "      <td>81.5</td>\n",
       "    </tr>\n",
       "    <tr>\n",
       "      <th>4</th>\n",
       "      <td>Marketing</td>\n",
       "      <td>C</td>\n",
       "      <td>M</td>\n",
       "      <td>92</td>\n",
       "      <td>28</td>\n",
       "      <td>2020-05-30</td>\n",
       "      <td>90.0</td>\n",
       "    </tr>\n",
       "    <tr>\n",
       "      <th>5</th>\n",
       "      <td>Marketing</td>\n",
       "      <td>C</td>\n",
       "      <td>F</td>\n",
       "      <td>88</td>\n",
       "      <td>26</td>\n",
       "      <td>2020-06-25</td>\n",
       "      <td>90.0</td>\n",
       "    </tr>\n",
       "    <tr>\n",
       "      <th>6</th>\n",
       "      <td>Sales</td>\n",
       "      <td>D</td>\n",
       "      <td>M</td>\n",
       "      <td>75</td>\n",
       "      <td>21</td>\n",
       "      <td>2021-07-15</td>\n",
       "      <td>77.5</td>\n",
       "    </tr>\n",
       "    <tr>\n",
       "      <th>7</th>\n",
       "      <td>Sales</td>\n",
       "      <td>D</td>\n",
       "      <td>F</td>\n",
       "      <td>80</td>\n",
       "      <td>27</td>\n",
       "      <td>2021-08-01</td>\n",
       "      <td>77.5</td>\n",
       "    </tr>\n",
       "  </tbody>\n",
       "</table>\n",
       "</div>"
      ],
      "text/plain": [
       "  Department Team Gender  Salary  Age   JoinDate  Team Avg\n",
       "0         HR    A      M      85   23 2020-01-10      87.5\n",
       "1         HR    A      F      90   25 2020-02-15      87.5\n",
       "2         IT    B      M      78   30 2021-03-20      81.5\n",
       "3         IT    B      F      85   22 2021-04-10      81.5\n",
       "4  Marketing    C      M      92   28 2020-05-30      90.0\n",
       "5  Marketing    C      F      88   26 2020-06-25      90.0\n",
       "6      Sales    D      M      75   21 2021-07-15      77.5\n",
       "7      Sales    D      F      80   27 2021-08-01      77.5"
      ]
     },
     "execution_count": 15,
     "metadata": {},
     "output_type": "execute_result"
    }
   ],
   "source": [
    "df"
   ]
  },
  {
   "cell_type": "code",
   "execution_count": 16,
   "id": "9d11ceaf-1b07-4268-adf8-8d42da60a75c",
   "metadata": {},
   "outputs": [
    {
     "data": {
      "text/html": [
       "<div>\n",
       "<style scoped>\n",
       "    .dataframe tbody tr th:only-of-type {\n",
       "        vertical-align: middle;\n",
       "    }\n",
       "\n",
       "    .dataframe tbody tr th {\n",
       "        vertical-align: top;\n",
       "    }\n",
       "\n",
       "    .dataframe thead th {\n",
       "        text-align: right;\n",
       "    }\n",
       "</style>\n",
       "<table border=\"1\" class=\"dataframe\">\n",
       "  <thead>\n",
       "    <tr style=\"text-align: right;\">\n",
       "      <th></th>\n",
       "      <th>Department</th>\n",
       "      <th>Team</th>\n",
       "      <th>Gender</th>\n",
       "      <th>Salary</th>\n",
       "      <th>Age</th>\n",
       "      <th>JoinDate</th>\n",
       "      <th>Team Avg</th>\n",
       "    </tr>\n",
       "  </thead>\n",
       "  <tbody>\n",
       "    <tr>\n",
       "      <th>0</th>\n",
       "      <td>HR</td>\n",
       "      <td>A</td>\n",
       "      <td>M</td>\n",
       "      <td>85</td>\n",
       "      <td>23</td>\n",
       "      <td>2020-01-10</td>\n",
       "      <td>87.5</td>\n",
       "    </tr>\n",
       "    <tr>\n",
       "      <th>1</th>\n",
       "      <td>HR</td>\n",
       "      <td>A</td>\n",
       "      <td>F</td>\n",
       "      <td>90</td>\n",
       "      <td>25</td>\n",
       "      <td>2020-02-15</td>\n",
       "      <td>87.5</td>\n",
       "    </tr>\n",
       "    <tr>\n",
       "      <th>2</th>\n",
       "      <td>IT</td>\n",
       "      <td>B</td>\n",
       "      <td>M</td>\n",
       "      <td>78</td>\n",
       "      <td>30</td>\n",
       "      <td>2021-03-20</td>\n",
       "      <td>81.5</td>\n",
       "    </tr>\n",
       "    <tr>\n",
       "      <th>3</th>\n",
       "      <td>IT</td>\n",
       "      <td>B</td>\n",
       "      <td>F</td>\n",
       "      <td>85</td>\n",
       "      <td>22</td>\n",
       "      <td>2021-04-10</td>\n",
       "      <td>81.5</td>\n",
       "    </tr>\n",
       "    <tr>\n",
       "      <th>4</th>\n",
       "      <td>Marketing</td>\n",
       "      <td>C</td>\n",
       "      <td>M</td>\n",
       "      <td>92</td>\n",
       "      <td>28</td>\n",
       "      <td>2020-05-30</td>\n",
       "      <td>90.0</td>\n",
       "    </tr>\n",
       "    <tr>\n",
       "      <th>5</th>\n",
       "      <td>Marketing</td>\n",
       "      <td>C</td>\n",
       "      <td>F</td>\n",
       "      <td>88</td>\n",
       "      <td>26</td>\n",
       "      <td>2020-06-25</td>\n",
       "      <td>90.0</td>\n",
       "    </tr>\n",
       "  </tbody>\n",
       "</table>\n",
       "</div>"
      ],
      "text/plain": [
       "  Department Team Gender  Salary  Age   JoinDate  Team Avg\n",
       "0         HR    A      M      85   23 2020-01-10      87.5\n",
       "1         HR    A      F      90   25 2020-02-15      87.5\n",
       "2         IT    B      M      78   30 2021-03-20      81.5\n",
       "3         IT    B      F      85   22 2021-04-10      81.5\n",
       "4  Marketing    C      M      92   28 2020-05-30      90.0\n",
       "5  Marketing    C      F      88   26 2020-06-25      90.0"
      ]
     },
     "execution_count": 16,
     "metadata": {},
     "output_type": "execute_result"
    }
   ],
   "source": [
    "df.groupby(\"Team\").filter(lambda x: x[\"Salary\"].mean() > 80)   # Only keeps teams with average score > 80"
   ]
  },
  {
   "cell_type": "code",
   "execution_count": null,
   "id": "5e2cafac-37db-4721-8291-ce6f2776a4ff",
   "metadata": {},
   "outputs": [],
   "source": []
  }
 ],
 "metadata": {
  "kernelspec": {
   "display_name": "Python [conda env:myenv]",
   "language": "python",
   "name": "conda-env-myenv-py"
  },
  "language_info": {
   "codemirror_mode": {
    "name": "ipython",
    "version": 3
   },
   "file_extension": ".py",
   "mimetype": "text/x-python",
   "name": "python",
   "nbconvert_exporter": "python",
   "pygments_lexer": "ipython3",
   "version": "3.13.2"
  }
 },
 "nbformat": 4,
 "nbformat_minor": 5
}
