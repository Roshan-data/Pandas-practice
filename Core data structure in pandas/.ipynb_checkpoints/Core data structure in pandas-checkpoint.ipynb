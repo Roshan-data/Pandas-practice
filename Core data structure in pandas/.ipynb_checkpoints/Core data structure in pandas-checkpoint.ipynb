{
 "cells": [
  {
   "cell_type": "markdown",
   "id": "3e17158d-a42f-484f-8d81-25296a76188b",
   "metadata": {},
   "source": [
    "Core Data Structures in Pandas"
   ]
  },
  {
   "cell_type": "markdown",
   "id": "f03c0e4f-6c11-4f55-b49e-ec74610659f2",
   "metadata": {},
   "source": [
    "Pandas is built on two main data structures:\n",
    "1. Series → One-dimensional (like a single column in Excel)\n",
    "2. DataFrame → Two-dimensional (like a full spreadsheet or SQL table)"
   ]
  },
  {
   "cell_type": "markdown",
   "id": "5b3a6244-2eb5-4e02-9122-cefb2b0ecd24",
   "metadata": {},
   "source": [
    "Series — 1D Labeled Array\n",
    "A Series is like a list with labels (index)"
   ]
  },
  {
   "cell_type": "code",
   "execution_count": 3,
   "id": "23152ce1-5c5f-4c05-8598-7feed5c5f5e3",
   "metadata": {},
   "outputs": [
    {
     "name": "stdout",
     "output_type": "stream",
     "text": [
      "0    10\n",
      "1    20\n",
      "2    30\n",
      "3    40\n",
      "dtype: int64\n"
     ]
    }
   ],
   "source": [
    "import pandas as pd\n",
    "\n",
    "s = pd.Series([10, 20, 30, 40])\n",
    "print(s)"
   ]
  },
  {
   "cell_type": "markdown",
   "id": "d413ef1f-754c-4765-bb59-602b1e296f17",
   "metadata": {},
   "source": [
    "Notice the automatic index: 0, 1, 2, 3"
   ]
  },
  {
   "cell_type": "code",
   "execution_count": 6,
   "id": "c9079a1b-986c-4a96-91ba-954a8eacee26",
   "metadata": {},
   "outputs": [],
   "source": [
    "s = pd.Series([10, 20, 30, 40], index =[\"a\", \"b\", \"c\", \"d\"])"
   ]
  },
  {
   "cell_type": "code",
   "execution_count": 7,
   "id": "5900cf27-7496-4da3-8224-a9bffff0e961",
   "metadata": {},
   "outputs": [
    {
     "name": "stdout",
     "output_type": "stream",
     "text": [
      "a    10\n",
      "b    20\n",
      "c    30\n",
      "d    40\n",
      "dtype: int64\n"
     ]
    }
   ],
   "source": [
    "print(s)"
   ]
  },
  {
   "cell_type": "code",
   "execution_count": 8,
   "id": "bdf5eca0-3c9c-4629-8d8e-1b3198fd7d93",
   "metadata": {},
   "outputs": [
    {
     "data": {
      "text/plain": [
       "pandas.core.series.Series"
      ]
     },
     "execution_count": 8,
     "metadata": {},
     "output_type": "execute_result"
    }
   ],
   "source": [
    "type(s)"
   ]
  },
  {
   "cell_type": "markdown",
   "id": "44ed205f-188c-4825-9afb-43d834e30ad8",
   "metadata": {},
   "source": [
    "pandas.Series may look similar to a Python dictionary because both store data\n",
    "with labels, but a Series offers much more. Unlike a dictionary, a Series supports\n",
    "fast vectorized operations, automatic index alignment during arithmetic, and handles missing data using \n",
    "NaN "
   ]
  },
  {
   "cell_type": "markdown",
   "id": "8eaf0035-b49f-44a7-9340-1db0f2e70665",
   "metadata": {},
   "source": [
    "DataFrame — 2D Labeled Table\n",
    "DataFrame is like a dictionary of Series — multiple columns with labels."
   ]
  },
  {
   "cell_type": "code",
   "execution_count": 13,
   "id": "11249503-4340-4acd-8e1d-ffa539fb70a4",
   "metadata": {},
   "outputs": [
    {
     "name": "stdout",
     "output_type": "stream",
     "text": [
      "     name  age      city\n",
      "0  Roshan   19  Gurugram\n",
      "1   Akash   22     Noida\n",
      "2   Ankit   25     Delhi\n"
     ]
    }
   ],
   "source": [
    "data = {\n",
    "    \"name\" : [\"Roshan\", \"Akash\", \"Ankit\"],\n",
    "    \"age\" : [19,  22,  25],\n",
    "    \"city\" : [\"Gurugram\", \"Noida\", \"Delhi\"]\n",
    "}\n",
    "\n",
    "df = pd.DataFrame(data)\n",
    "print(df)"
   ]
  },
  {
   "cell_type": "code",
   "execution_count": 14,
   "id": "e28062ae-5c5c-45b2-95f0-0a11d4b5d26c",
   "metadata": {},
   "outputs": [
    {
     "data": {
      "text/plain": [
       "pandas.core.frame.DataFrame"
      ]
     },
     "execution_count": 14,
     "metadata": {},
     "output_type": "execute_result"
    }
   ],
   "source": [
    "type(df)"
   ]
  },
  {
   "cell_type": "code",
   "execution_count": 15,
   "id": "7b121f9f-e1df-4608-b734-ce62870f6987",
   "metadata": {},
   "outputs": [
    {
     "data": {
      "text/plain": [
       "RangeIndex(start=0, stop=3, step=1)"
      ]
     },
     "execution_count": 15,
     "metadata": {},
     "output_type": "execute_result"
    }
   ],
   "source": [
    "df.index    #rows labels"
   ]
  },
  {
   "cell_type": "code",
   "execution_count": 16,
   "id": "ff267c1a-cb75-4699-b3cf-a2fa7a816b18",
   "metadata": {},
   "outputs": [
    {
     "data": {
      "text/plain": [
       "Index(['name', 'age', 'city'], dtype='object')"
      ]
     },
     "execution_count": 16,
     "metadata": {},
     "output_type": "execute_result"
    }
   ],
   "source": [
    "df.columns   #columns labels"
   ]
  },
  {
   "cell_type": "markdown",
   "id": "d4fcff0f-ae2d-4b66-9395-c507fb129047",
   "metadata": {},
   "source": [
    "Index and Labels\n",
    "Every Series and DataFrame has an Index — it helps with:\n",
    "  Fast lookups\n",
    "  Aligning data\n",
    "  Merging & joining\n",
    "  Time series operations"
   ]
  },
  {
   "cell_type": "markdown",
   "id": "14e103cd-b0d9-44e0-a80a-f2eeba86a1a2",
   "metadata": {},
   "source": [
    "Why Learn These Well?\n",
    "Most Pandas operations are built on these foundations:\n",
    "Selection\n",
    "Filtering\n",
    "Merging\n",
    "Aggregation\n",
    "Understanding Series & DataFrames will make everything else easier"
   ]
  }
 ],
 "metadata": {
  "kernelspec": {
   "display_name": "Python [conda env:myenv]",
   "language": "python",
   "name": "conda-env-myenv-py"
  },
  "language_info": {
   "codemirror_mode": {
    "name": "ipython",
    "version": 3
   },
   "file_extension": ".py",
   "mimetype": "text/x-python",
   "name": "python",
   "nbconvert_exporter": "python",
   "pygments_lexer": "ipython3",
   "version": "3.13.2"
  }
 },
 "nbformat": 4,
 "nbformat_minor": 5
}
