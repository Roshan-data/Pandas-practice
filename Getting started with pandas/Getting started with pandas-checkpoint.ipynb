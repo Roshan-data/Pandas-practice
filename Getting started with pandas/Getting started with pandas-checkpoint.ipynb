{
 "cells": [
  {
   "cell_type": "markdown",
   "id": "75d55a49-7550-48f1-8cb4-9492d3898095",
   "metadata": {},
   "source": [
    "What is pandas?"
   ]
  },
  {
   "cell_type": "markdown",
   "id": "c169afbd-5526-4fe9-8e2e-183666d28cfa",
   "metadata": {},
   "source": [
    "Pandas is a powerful, open-source Python library used for data manipulation, \n",
    "cleaning, and analysis. It provides two main data structures\n",
    "\n",
    "Series: A one-dimensional labeled array.\n",
    "DataFrame: A two-dimensional labeled table (like an Excel sheet or SQL table)"
   ]
  },
  {
   "cell_type": "markdown",
   "id": "21457328-2a84-4154-b3b3-a6132cd80708",
   "metadata": {},
   "source": [
    " Pandas makes working with structured data fast, expressive, and flexible.\n",
    " Pandas saves time, reduces code, and increases readability."
   ]
  },
  {
   "cell_type": "markdown",
   "id": "40ecd540-b6d2-496e-b669-81936a6c1364",
   "metadata": {},
   "source": [
    " Installing Pandas\n",
    "\n",
    " Install via pip:\n",
    " pip install pandas"
   ]
  },
  {
   "cell_type": "markdown",
   "id": "6406e00a-7ba0-454e-b920-75bf8caa8f36",
   "metadata": {},
   "source": [
    "Or using conda (recommended if you're using Anaconda):\n",
    "conda install pandas"
   ]
  },
  {
   "cell_type": "markdown",
   "id": "78eb6bc1-efee-4a88-aed0-017899947c99",
   "metadata": {},
   "source": [
    " Importing Pandas\n",
    "\n",
    " import pandas as pd\n"
   ]
  },
  {
   "cell_type": "markdown",
   "id": "a53c872a-1245-4601-b882-d45535e2ffdb",
   "metadata": {},
   "source": [
    "Pandas vs Excel vs SQL vs NumPy\n",
    "Tool                             Strengths                              Weaknesses    \n",
    "Excel                      Easy UI, great for small data               Slow, manual, not scalable\n",
    "SQL                      Efficient querying of big data               Not ideal for transformation logic\n",
    "NumPy                      Fast, low-level array operations            No labels, harder for tabular data\n",
    "Pandas                      Label-aware, fast, flexible                 Slightly steep learning curve"
   ]
  },
  {
   "cell_type": "markdown",
   "id": "597a6fc7-ed6d-4e41-bd40-5267a02f6738",
   "metadata": {},
   "source": [
    " Pandas bridges the gap between NumPy performance and Excel-like usability.\n",
    " Pandas is built on top of NumPy"
   ]
  }
 ],
 "metadata": {
  "kernelspec": {
   "display_name": "Python [conda env:myenv]",
   "language": "python",
   "name": "conda-env-myenv-py"
  },
  "language_info": {
   "codemirror_mode": {
    "name": "ipython",
    "version": 3
   },
   "file_extension": ".py",
   "mimetype": "text/x-python",
   "name": "python",
   "nbconvert_exporter": "python",
   "pygments_lexer": "ipython3",
   "version": "3.13.2"
  }
 },
 "nbformat": 4,
 "nbformat_minor": 5
}
