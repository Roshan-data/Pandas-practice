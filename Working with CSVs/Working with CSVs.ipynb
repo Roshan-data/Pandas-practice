{
 "cells": [
  {
   "cell_type": "markdown",
   "id": "4a96f441-bdd7-4d9d-a011-4e232ca98282",
   "metadata": {},
   "source": [
    "Reading & Writing Files in Pandas"
   ]
  },
  {
   "cell_type": "markdown",
   "id": "91b8a3cc-38c3-4533-aa10-5f599d916c49",
   "metadata": {},
   "source": [
    "This section we have already seen how to read csv files, excel files, json files\n",
    "here again just we will overlook "
   ]
  },
  {
   "cell_type": "markdown",
   "id": "d80bcc13-ea68-4d50-893c-1bd4ff37892b",
   "metadata": {},
   "source": [
    "Read CSV\n",
    "df = pd.read_csv(\"data.csv\")"
   ]
  },
  {
   "cell_type": "markdown",
   "id": "e176a2e5-c263-4bb6-990f-d35b993c5f0e",
   "metadata": {},
   "source": [
    "Write CSV\n",
    "df.to_csv(\"output.csv\", index=False)"
   ]
  },
  {
   "cell_type": "markdown",
   "id": "851e1ec2-e343-45af-940f-1530a7beccae",
   "metadata": {},
   "source": [
    "Read Excel\n",
    "df = pd.read_excel(\"data.xlsx\")"
   ]
  },
  {
   "cell_type": "markdown",
   "id": "82b72e71-1ec2-4100-b96d-5c098ac9d7e1",
   "metadata": {},
   "source": [
    "Write Excel\n",
    "df.to_excel(\"output.xlsx\", index=False)"
   ]
  },
  {
   "cell_type": "markdown",
   "id": "51747208-2814-4cd2-87fd-e0410fa5dd54",
   "metadata": {},
   "source": [
    "Read JSON\n",
    "df = pd.read_json(\"data.json\")"
   ]
  },
  {
   "cell_type": "markdown",
   "id": "ab53f895-bd6e-43fd-8e88-0d34b2d20aae",
   "metadata": {},
   "source": [
    "Summary\n",
    "read_* and to_* methods for CSV, Excel, JSON\n",
    "Use sheet_name for excel"
   ]
  }
 ],
 "metadata": {
  "kernelspec": {
   "display_name": "Python [conda env:myenv]",
   "language": "python",
   "name": "conda-env-myenv-py"
  },
  "language_info": {
   "codemirror_mode": {
    "name": "ipython",
    "version": 3
   },
   "file_extension": ".py",
   "mimetype": "text/x-python",
   "name": "python",
   "nbconvert_exporter": "python",
   "pygments_lexer": "ipython3",
   "version": "3.13.2"
  }
 },
 "nbformat": 4,
 "nbformat_minor": 5
}
